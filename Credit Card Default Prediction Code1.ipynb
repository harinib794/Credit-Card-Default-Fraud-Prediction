{
 "cells": [
  {
   "cell_type": "code",
   "execution_count": 1,
   "metadata": {},
   "outputs": [],
   "source": [
    "#import libraries\n",
    "import numpy as np\n",
    "import pandas as pd\n",
    "import matplotlib.pyplot as plt\n",
    "import seaborn as sns\n",
    "from sklearn.model_selection import train_test_split, cross_val_score, GridSearchCV, learning_curve, KFold\n",
    "from sklearn.preprocessing import MinMaxScaler, OneHotEncoder, StandardScaler\n",
    "import random\n",
    "from sklearn.svm import SVC\n",
    "import sklearn.metrics as mt\n",
    "from sklearn.model_selection import ShuffleSplit\n",
    "from sklearn.model_selection import learning_curve\n",
    "from sklearn.tree import DecisionTreeClassifier\n",
    "from sklearn.ensemble import AdaBoostClassifier\n",
    "from sklearn import tree\n"
   ]
  },
  {
   "cell_type": "code",
   "execution_count": 2,
   "metadata": {},
   "outputs": [
    {
     "data": {
      "text/plain": [
       "(30000, 25)"
      ]
     },
     "execution_count": 2,
     "metadata": {},
     "output_type": "execute_result"
    }
   ],
   "source": [
    "data = pd.read_csv(\"D:/UTD Fall 2020/ML/Assignment2/UCI_Credit_Card.csv\", encoding= 'unicode_escape')\n",
    "data.shape"
   ]
  },
  {
   "cell_type": "code",
   "execution_count": 3,
   "metadata": {},
   "outputs": [
    {
     "data": {
      "text/html": [
       "<div>\n",
       "<style scoped>\n",
       "    .dataframe tbody tr th:only-of-type {\n",
       "        vertical-align: middle;\n",
       "    }\n",
       "\n",
       "    .dataframe tbody tr th {\n",
       "        vertical-align: top;\n",
       "    }\n",
       "\n",
       "    .dataframe thead th {\n",
       "        text-align: right;\n",
       "    }\n",
       "</style>\n",
       "<table border=\"1\" class=\"dataframe\">\n",
       "  <thead>\n",
       "    <tr style=\"text-align: right;\">\n",
       "      <th></th>\n",
       "      <th>ID</th>\n",
       "      <th>LIMIT_BAL</th>\n",
       "      <th>SEX</th>\n",
       "      <th>EDUCATION</th>\n",
       "      <th>MARRIAGE</th>\n",
       "      <th>AGE</th>\n",
       "      <th>PAY_0</th>\n",
       "      <th>PAY_2</th>\n",
       "      <th>PAY_3</th>\n",
       "      <th>PAY_4</th>\n",
       "      <th>...</th>\n",
       "      <th>BILL_AMT4</th>\n",
       "      <th>BILL_AMT5</th>\n",
       "      <th>BILL_AMT6</th>\n",
       "      <th>PAY_AMT1</th>\n",
       "      <th>PAY_AMT2</th>\n",
       "      <th>PAY_AMT3</th>\n",
       "      <th>PAY_AMT4</th>\n",
       "      <th>PAY_AMT5</th>\n",
       "      <th>PAY_AMT6</th>\n",
       "      <th>default.payment.next.month</th>\n",
       "    </tr>\n",
       "  </thead>\n",
       "  <tbody>\n",
       "    <tr>\n",
       "      <th>0</th>\n",
       "      <td>1</td>\n",
       "      <td>20000.0</td>\n",
       "      <td>2</td>\n",
       "      <td>2</td>\n",
       "      <td>1</td>\n",
       "      <td>24</td>\n",
       "      <td>2</td>\n",
       "      <td>2</td>\n",
       "      <td>-1</td>\n",
       "      <td>-1</td>\n",
       "      <td>...</td>\n",
       "      <td>0.0</td>\n",
       "      <td>0.0</td>\n",
       "      <td>0.0</td>\n",
       "      <td>0.0</td>\n",
       "      <td>689.0</td>\n",
       "      <td>0.0</td>\n",
       "      <td>0.0</td>\n",
       "      <td>0.0</td>\n",
       "      <td>0.0</td>\n",
       "      <td>1</td>\n",
       "    </tr>\n",
       "    <tr>\n",
       "      <th>1</th>\n",
       "      <td>2</td>\n",
       "      <td>120000.0</td>\n",
       "      <td>2</td>\n",
       "      <td>2</td>\n",
       "      <td>2</td>\n",
       "      <td>26</td>\n",
       "      <td>-1</td>\n",
       "      <td>2</td>\n",
       "      <td>0</td>\n",
       "      <td>0</td>\n",
       "      <td>...</td>\n",
       "      <td>3272.0</td>\n",
       "      <td>3455.0</td>\n",
       "      <td>3261.0</td>\n",
       "      <td>0.0</td>\n",
       "      <td>1000.0</td>\n",
       "      <td>1000.0</td>\n",
       "      <td>1000.0</td>\n",
       "      <td>0.0</td>\n",
       "      <td>2000.0</td>\n",
       "      <td>1</td>\n",
       "    </tr>\n",
       "    <tr>\n",
       "      <th>2</th>\n",
       "      <td>3</td>\n",
       "      <td>90000.0</td>\n",
       "      <td>2</td>\n",
       "      <td>2</td>\n",
       "      <td>2</td>\n",
       "      <td>34</td>\n",
       "      <td>0</td>\n",
       "      <td>0</td>\n",
       "      <td>0</td>\n",
       "      <td>0</td>\n",
       "      <td>...</td>\n",
       "      <td>14331.0</td>\n",
       "      <td>14948.0</td>\n",
       "      <td>15549.0</td>\n",
       "      <td>1518.0</td>\n",
       "      <td>1500.0</td>\n",
       "      <td>1000.0</td>\n",
       "      <td>1000.0</td>\n",
       "      <td>1000.0</td>\n",
       "      <td>5000.0</td>\n",
       "      <td>0</td>\n",
       "    </tr>\n",
       "    <tr>\n",
       "      <th>3</th>\n",
       "      <td>4</td>\n",
       "      <td>50000.0</td>\n",
       "      <td>2</td>\n",
       "      <td>2</td>\n",
       "      <td>1</td>\n",
       "      <td>37</td>\n",
       "      <td>0</td>\n",
       "      <td>0</td>\n",
       "      <td>0</td>\n",
       "      <td>0</td>\n",
       "      <td>...</td>\n",
       "      <td>28314.0</td>\n",
       "      <td>28959.0</td>\n",
       "      <td>29547.0</td>\n",
       "      <td>2000.0</td>\n",
       "      <td>2019.0</td>\n",
       "      <td>1200.0</td>\n",
       "      <td>1100.0</td>\n",
       "      <td>1069.0</td>\n",
       "      <td>1000.0</td>\n",
       "      <td>0</td>\n",
       "    </tr>\n",
       "    <tr>\n",
       "      <th>4</th>\n",
       "      <td>5</td>\n",
       "      <td>50000.0</td>\n",
       "      <td>1</td>\n",
       "      <td>2</td>\n",
       "      <td>1</td>\n",
       "      <td>57</td>\n",
       "      <td>-1</td>\n",
       "      <td>0</td>\n",
       "      <td>-1</td>\n",
       "      <td>0</td>\n",
       "      <td>...</td>\n",
       "      <td>20940.0</td>\n",
       "      <td>19146.0</td>\n",
       "      <td>19131.0</td>\n",
       "      <td>2000.0</td>\n",
       "      <td>36681.0</td>\n",
       "      <td>10000.0</td>\n",
       "      <td>9000.0</td>\n",
       "      <td>689.0</td>\n",
       "      <td>679.0</td>\n",
       "      <td>0</td>\n",
       "    </tr>\n",
       "  </tbody>\n",
       "</table>\n",
       "<p>5 rows × 25 columns</p>\n",
       "</div>"
      ],
      "text/plain": [
       "   ID  LIMIT_BAL  SEX  EDUCATION  MARRIAGE  AGE  PAY_0  PAY_2  PAY_3  PAY_4  \\\n",
       "0   1    20000.0    2          2         1   24      2      2     -1     -1   \n",
       "1   2   120000.0    2          2         2   26     -1      2      0      0   \n",
       "2   3    90000.0    2          2         2   34      0      0      0      0   \n",
       "3   4    50000.0    2          2         1   37      0      0      0      0   \n",
       "4   5    50000.0    1          2         1   57     -1      0     -1      0   \n",
       "\n",
       "   ...  BILL_AMT4  BILL_AMT5  BILL_AMT6  PAY_AMT1  PAY_AMT2  PAY_AMT3  \\\n",
       "0  ...        0.0        0.0        0.0       0.0     689.0       0.0   \n",
       "1  ...     3272.0     3455.0     3261.0       0.0    1000.0    1000.0   \n",
       "2  ...    14331.0    14948.0    15549.0    1518.0    1500.0    1000.0   \n",
       "3  ...    28314.0    28959.0    29547.0    2000.0    2019.0    1200.0   \n",
       "4  ...    20940.0    19146.0    19131.0    2000.0   36681.0   10000.0   \n",
       "\n",
       "   PAY_AMT4  PAY_AMT5  PAY_AMT6  default.payment.next.month  \n",
       "0       0.0       0.0       0.0                           1  \n",
       "1    1000.0       0.0    2000.0                           1  \n",
       "2    1000.0    1000.0    5000.0                           0  \n",
       "3    1100.0    1069.0    1000.0                           0  \n",
       "4    9000.0     689.0     679.0                           0  \n",
       "\n",
       "[5 rows x 25 columns]"
      ]
     },
     "execution_count": 3,
     "metadata": {},
     "output_type": "execute_result"
    }
   ],
   "source": [
    "#Viewing data\n",
    "data.head()"
   ]
  },
  {
   "cell_type": "code",
   "execution_count": 4,
   "metadata": {},
   "outputs": [
    {
     "name": "stdout",
     "output_type": "stream",
     "text": [
      "<class 'pandas.core.frame.DataFrame'>\n",
      "RangeIndex: 30000 entries, 0 to 29999\n",
      "Data columns (total 25 columns):\n",
      " #   Column                      Non-Null Count  Dtype  \n",
      "---  ------                      --------------  -----  \n",
      " 0   ID                          30000 non-null  int64  \n",
      " 1   LIMIT_BAL                   30000 non-null  float64\n",
      " 2   SEX                         30000 non-null  int64  \n",
      " 3   EDUCATION                   30000 non-null  int64  \n",
      " 4   MARRIAGE                    30000 non-null  int64  \n",
      " 5   AGE                         30000 non-null  int64  \n",
      " 6   PAY_0                       30000 non-null  int64  \n",
      " 7   PAY_2                       30000 non-null  int64  \n",
      " 8   PAY_3                       30000 non-null  int64  \n",
      " 9   PAY_4                       30000 non-null  int64  \n",
      " 10  PAY_5                       30000 non-null  int64  \n",
      " 11  PAY_6                       30000 non-null  int64  \n",
      " 12  BILL_AMT1                   30000 non-null  float64\n",
      " 13  BILL_AMT2                   30000 non-null  float64\n",
      " 14  BILL_AMT3                   30000 non-null  float64\n",
      " 15  BILL_AMT4                   30000 non-null  float64\n",
      " 16  BILL_AMT5                   30000 non-null  float64\n",
      " 17  BILL_AMT6                   30000 non-null  float64\n",
      " 18  PAY_AMT1                    30000 non-null  float64\n",
      " 19  PAY_AMT2                    30000 non-null  float64\n",
      " 20  PAY_AMT3                    30000 non-null  float64\n",
      " 21  PAY_AMT4                    30000 non-null  float64\n",
      " 22  PAY_AMT5                    30000 non-null  float64\n",
      " 23  PAY_AMT6                    30000 non-null  float64\n",
      " 24  default.payment.next.month  30000 non-null  int64  \n",
      "dtypes: float64(13), int64(12)\n",
      "memory usage: 5.7 MB\n"
     ]
    }
   ],
   "source": [
    "#structure of data\n",
    "data.info()"
   ]
  },
  {
   "cell_type": "code",
   "execution_count": 5,
   "metadata": {},
   "outputs": [
    {
     "data": {
      "text/plain": [
       "ID                            0\n",
       "LIMIT_BAL                     0\n",
       "SEX                           0\n",
       "EDUCATION                     0\n",
       "MARRIAGE                      0\n",
       "AGE                           0\n",
       "PAY_0                         0\n",
       "PAY_2                         0\n",
       "PAY_3                         0\n",
       "PAY_4                         0\n",
       "PAY_5                         0\n",
       "PAY_6                         0\n",
       "BILL_AMT1                     0\n",
       "BILL_AMT2                     0\n",
       "BILL_AMT3                     0\n",
       "BILL_AMT4                     0\n",
       "BILL_AMT5                     0\n",
       "BILL_AMT6                     0\n",
       "PAY_AMT1                      0\n",
       "PAY_AMT2                      0\n",
       "PAY_AMT3                      0\n",
       "PAY_AMT4                      0\n",
       "PAY_AMT5                      0\n",
       "PAY_AMT6                      0\n",
       "default.payment.next.month    0\n",
       "dtype: int64"
      ]
     },
     "execution_count": 5,
     "metadata": {},
     "output_type": "execute_result"
    }
   ],
   "source": [
    "data.isnull().sum() "
   ]
  },
  {
   "cell_type": "code",
   "execution_count": 6,
   "metadata": {},
   "outputs": [
    {
     "data": {
      "text/plain": [
       "array([2, 1], dtype=int64)"
      ]
     },
     "execution_count": 6,
     "metadata": {},
     "output_type": "execute_result"
    }
   ],
   "source": [
    "#Feature Engineering and creating dummy variables\n",
    "data[\"SEX\"].unique()"
   ]
  },
  {
   "cell_type": "code",
   "execution_count": 7,
   "metadata": {},
   "outputs": [
    {
     "data": {
      "text/plain": [
       "array([2, 1, 3, 5, 4, 6, 0], dtype=int64)"
      ]
     },
     "execution_count": 7,
     "metadata": {},
     "output_type": "execute_result"
    }
   ],
   "source": [
    "data['SEX']=np.where(data['SEX'] == 1, \"Male\", data['SEX'])\n",
    "data['SEX']=np.where(data['SEX'] == \"2\", \"Female\", data['SEX'])\n",
    "data['EDUCATION'].unique()"
   ]
  },
  {
   "cell_type": "code",
   "execution_count": 8,
   "metadata": {},
   "outputs": [
    {
     "data": {
      "text/plain": [
       "array([1, 2, 3, 0], dtype=int64)"
      ]
     },
     "execution_count": 8,
     "metadata": {},
     "output_type": "execute_result"
    }
   ],
   "source": [
    "data['EDUCATION']=np.where(data['EDUCATION'] == 5, 4, data['EDUCATION'])\n",
    "data['EDUCATION']=np.where(data['EDUCATION'] == 6, 4, data['EDUCATION'])\n",
    "data['EDUCATION']=np.where(data['EDUCATION'] == 0, 4, data['EDUCATION'])\n",
    "data['MARRIAGE'].unique()"
   ]
  },
  {
   "cell_type": "code",
   "execution_count": 9,
   "metadata": {},
   "outputs": [],
   "source": [
    "data['MARRIAGE']=np.where(data['MARRIAGE'] == 0, 3, data['MARRIAGE'])\n",
    "data['MARRIAGE']=np.where(data['MARRIAGE'] == 1, \"married\", data['MARRIAGE'])\n",
    "data['MARRIAGE']=np.where(data['MARRIAGE'] == \"2\", \"single\", data['MARRIAGE'])\n",
    "data['MARRIAGE']=np.where(data['MARRIAGE'] == \"3\", \"others\", data['MARRIAGE'])"
   ]
  },
  {
   "cell_type": "code",
   "execution_count": 10,
   "metadata": {},
   "outputs": [],
   "source": [
    "dummies_sex = pd.get_dummies(data['SEX'],prefix=\"Sex\",drop_first=True)\n",
    "dummies_marriage = pd.get_dummies(data['MARRIAGE'],prefix=\"Marriage\",drop_first=True)\n",
    "data = pd.concat([data,dummies_sex,dummies_marriage], axis=1)   \n",
    "data=data.drop(columns =['ID','SEX','MARRIAGE'], axis = 1)"
   ]
  },
  {
   "cell_type": "code",
   "execution_count": 11,
   "metadata": {},
   "outputs": [
    {
     "name": "stdout",
     "output_type": "stream",
     "text": [
      "<class 'pandas.core.frame.DataFrame'>\n",
      "RangeIndex: 30000 entries, 0 to 29999\n",
      "Data columns (total 25 columns):\n",
      " #   Column                      Non-Null Count  Dtype  \n",
      "---  ------                      --------------  -----  \n",
      " 0   LIMIT_BAL                   30000 non-null  float64\n",
      " 1   EDUCATION                   30000 non-null  int64  \n",
      " 2   AGE                         30000 non-null  int64  \n",
      " 3   PAY_0                       30000 non-null  int64  \n",
      " 4   PAY_2                       30000 non-null  int64  \n",
      " 5   PAY_3                       30000 non-null  int64  \n",
      " 6   PAY_4                       30000 non-null  int64  \n",
      " 7   PAY_5                       30000 non-null  int64  \n",
      " 8   PAY_6                       30000 non-null  int64  \n",
      " 9   BILL_AMT1                   30000 non-null  float64\n",
      " 10  BILL_AMT2                   30000 non-null  float64\n",
      " 11  BILL_AMT3                   30000 non-null  float64\n",
      " 12  BILL_AMT4                   30000 non-null  float64\n",
      " 13  BILL_AMT5                   30000 non-null  float64\n",
      " 14  BILL_AMT6                   30000 non-null  float64\n",
      " 15  PAY_AMT1                    30000 non-null  float64\n",
      " 16  PAY_AMT2                    30000 non-null  float64\n",
      " 17  PAY_AMT3                    30000 non-null  float64\n",
      " 18  PAY_AMT4                    30000 non-null  float64\n",
      " 19  PAY_AMT5                    30000 non-null  float64\n",
      " 20  PAY_AMT6                    30000 non-null  float64\n",
      " 21  default.payment.next.month  30000 non-null  int64  \n",
      " 22  Sex_Male                    30000 non-null  uint8  \n",
      " 23  Marriage_others             30000 non-null  uint8  \n",
      " 24  Marriage_single             30000 non-null  uint8  \n",
      "dtypes: float64(13), int64(9), uint8(3)\n",
      "memory usage: 5.1 MB\n"
     ]
    }
   ],
   "source": [
    "data.info()"
   ]
  },
  {
   "cell_type": "code",
   "execution_count": 12,
   "metadata": {},
   "outputs": [
    {
     "data": {
      "text/plain": [
       "<matplotlib.axes._subplots.AxesSubplot at 0x254997a66d8>"
      ]
     },
     "execution_count": 12,
     "metadata": {},
     "output_type": "execute_result"
    },
    {
     "data": {
      "image/png": "[encoded data removed]",
      "text/plain": [
       "<Figure size 1008x576 with 1 Axes>"
      ]
     },
     "metadata": {
      "needs_background": "light"
     },
     "output_type": "display_data"
    }
   ],
   "source": [
    "#Correlation plot\n",
    "plt.figure(figsize=(14,8))\n",
    "data.corr()['default.payment.next.month'].sort_values(ascending = False).plot(kind='bar')"
   ]
  },
  {
   "cell_type": "code",
   "execution_count": 13,
   "metadata": {},
   "outputs": [],
   "source": [
    "df=data\n",
    "sc=StandardScaler()\n",
    "data.iloc[:,0:21]=sc.fit_transform(data.iloc[:,0:21])"
   ]
  },
  {
   "cell_type": "code",
   "execution_count": 36,
   "metadata": {},
   "outputs": [
    {
     "data": {
      "text/html": [
       "<div>\n",
       "<style scoped>\n",
       "    .dataframe tbody tr th:only-of-type {\n",
       "        vertical-align: middle;\n",
       "    }\n",
       "\n",
       "    .dataframe tbody tr th {\n",
       "        vertical-align: top;\n",
       "    }\n",
       "\n",
       "    .dataframe thead th {\n",
       "        text-align: right;\n",
       "    }\n",
       "</style>\n",
       "<table border=\"1\" class=\"dataframe\">\n",
       "  <thead>\n",
       "    <tr style=\"text-align: right;\">\n",
       "      <th></th>\n",
       "      <th>LIMIT_BAL</th>\n",
       "      <th>EDUCATION</th>\n",
       "      <th>AGE</th>\n",
       "      <th>PAY_0</th>\n",
       "      <th>PAY_2</th>\n",
       "      <th>PAY_3</th>\n",
       "      <th>PAY_4</th>\n",
       "      <th>PAY_5</th>\n",
       "      <th>PAY_6</th>\n",
       "      <th>BILL_AMT1</th>\n",
       "      <th>...</th>\n",
       "      <th>PAY_AMT1</th>\n",
       "      <th>PAY_AMT2</th>\n",
       "      <th>PAY_AMT3</th>\n",
       "      <th>PAY_AMT4</th>\n",
       "      <th>PAY_AMT5</th>\n",
       "      <th>PAY_AMT6</th>\n",
       "      <th>default.payment.next.month</th>\n",
       "      <th>Sex_Male</th>\n",
       "      <th>Marriage_others</th>\n",
       "      <th>Marriage_single</th>\n",
       "    </tr>\n",
       "  </thead>\n",
       "  <tbody>\n",
       "    <tr>\n",
       "      <th>0</th>\n",
       "      <td>-1.136720</td>\n",
       "      <td>0.21187</td>\n",
       "      <td>-1.246020</td>\n",
       "      <td>1.794564</td>\n",
       "      <td>1.782348</td>\n",
       "      <td>-0.696663</td>\n",
       "      <td>-0.666599</td>\n",
       "      <td>-1.530046</td>\n",
       "      <td>-1.486041</td>\n",
       "      <td>-0.642501</td>\n",
       "      <td>...</td>\n",
       "      <td>-0.341942</td>\n",
       "      <td>-0.227086</td>\n",
       "      <td>-0.296801</td>\n",
       "      <td>-0.308063</td>\n",
       "      <td>-0.314136</td>\n",
       "      <td>-0.293382</td>\n",
       "      <td>1</td>\n",
       "      <td>0</td>\n",
       "      <td>0</td>\n",
       "      <td>0</td>\n",
       "    </tr>\n",
       "    <tr>\n",
       "      <th>1</th>\n",
       "      <td>-0.365981</td>\n",
       "      <td>0.21187</td>\n",
       "      <td>-1.029047</td>\n",
       "      <td>-0.874991</td>\n",
       "      <td>1.782348</td>\n",
       "      <td>0.138865</td>\n",
       "      <td>0.188746</td>\n",
       "      <td>0.234917</td>\n",
       "      <td>1.992316</td>\n",
       "      <td>-0.659219</td>\n",
       "      <td>...</td>\n",
       "      <td>-0.341942</td>\n",
       "      <td>-0.213588</td>\n",
       "      <td>-0.240005</td>\n",
       "      <td>-0.244230</td>\n",
       "      <td>-0.314136</td>\n",
       "      <td>-0.180878</td>\n",
       "      <td>1</td>\n",
       "      <td>0</td>\n",
       "      <td>0</td>\n",
       "      <td>1</td>\n",
       "    </tr>\n",
       "    <tr>\n",
       "      <th>2</th>\n",
       "      <td>-0.597202</td>\n",
       "      <td>0.21187</td>\n",
       "      <td>-0.161156</td>\n",
       "      <td>0.014861</td>\n",
       "      <td>0.111736</td>\n",
       "      <td>0.138865</td>\n",
       "      <td>0.188746</td>\n",
       "      <td>0.234917</td>\n",
       "      <td>0.253137</td>\n",
       "      <td>-0.298560</td>\n",
       "      <td>...</td>\n",
       "      <td>-0.250292</td>\n",
       "      <td>-0.191887</td>\n",
       "      <td>-0.240005</td>\n",
       "      <td>-0.244230</td>\n",
       "      <td>-0.248683</td>\n",
       "      <td>-0.012122</td>\n",
       "      <td>0</td>\n",
       "      <td>0</td>\n",
       "      <td>0</td>\n",
       "      <td>1</td>\n",
       "    </tr>\n",
       "    <tr>\n",
       "      <th>3</th>\n",
       "      <td>-0.905498</td>\n",
       "      <td>0.21187</td>\n",
       "      <td>0.164303</td>\n",
       "      <td>0.014861</td>\n",
       "      <td>0.111736</td>\n",
       "      <td>0.138865</td>\n",
       "      <td>0.188746</td>\n",
       "      <td>0.234917</td>\n",
       "      <td>0.253137</td>\n",
       "      <td>-0.057491</td>\n",
       "      <td>...</td>\n",
       "      <td>-0.221191</td>\n",
       "      <td>-0.169361</td>\n",
       "      <td>-0.228645</td>\n",
       "      <td>-0.237846</td>\n",
       "      <td>-0.244166</td>\n",
       "      <td>-0.237130</td>\n",
       "      <td>0</td>\n",
       "      <td>0</td>\n",
       "      <td>0</td>\n",
       "      <td>0</td>\n",
       "    </tr>\n",
       "    <tr>\n",
       "      <th>4</th>\n",
       "      <td>-0.905498</td>\n",
       "      <td>0.21187</td>\n",
       "      <td>2.334029</td>\n",
       "      <td>-0.874991</td>\n",
       "      <td>0.111736</td>\n",
       "      <td>-0.696663</td>\n",
       "      <td>0.188746</td>\n",
       "      <td>0.234917</td>\n",
       "      <td>0.253137</td>\n",
       "      <td>-0.578618</td>\n",
       "      <td>...</td>\n",
       "      <td>-0.221191</td>\n",
       "      <td>1.335034</td>\n",
       "      <td>0.271165</td>\n",
       "      <td>0.266434</td>\n",
       "      <td>-0.269039</td>\n",
       "      <td>-0.255187</td>\n",
       "      <td>0</td>\n",
       "      <td>1</td>\n",
       "      <td>0</td>\n",
       "      <td>0</td>\n",
       "    </tr>\n",
       "  </tbody>\n",
       "</table>\n",
       "<p>5 rows × 25 columns</p>\n",
       "</div>"
      ],
      "text/plain": [
       "   LIMIT_BAL  EDUCATION       AGE     PAY_0     PAY_2     PAY_3     PAY_4  \\\n",
       "0  -1.136720    0.21187 -1.246020  1.794564  1.782348 -0.696663 -0.666599   \n",
       "1  -0.365981    0.21187 -1.029047 -0.874991  1.782348  0.138865  0.188746   \n",
       "2  -0.597202    0.21187 -0.161156  0.014861  0.111736  0.138865  0.188746   \n",
       "3  -0.905498    0.21187  0.164303  0.014861  0.111736  0.138865  0.188746   \n",
       "4  -0.905498    0.21187  2.334029 -0.874991  0.111736 -0.696663  0.188746   \n",
       "\n",
       "      PAY_5     PAY_6  BILL_AMT1  ...  PAY_AMT1  PAY_AMT2  PAY_AMT3  PAY_AMT4  \\\n",
       "0 -1.530046 -1.486041  -0.642501  ... -0.341942 -0.227086 -0.296801 -0.308063   \n",
       "1  0.234917  1.992316  -0.659219  ... -0.341942 -0.213588 -0.240005 -0.244230   \n",
       "2  0.234917  0.253137  -0.298560  ... -0.250292 -0.191887 -0.240005 -0.244230   \n",
       "3  0.234917  0.253137  -0.057491  ... -0.221191 -0.169361 -0.228645 -0.237846   \n",
       "4  0.234917  0.253137  -0.578618  ... -0.221191  1.335034  0.271165  0.266434   \n",
       "\n",
       "   PAY_AMT5  PAY_AMT6  default.payment.next.month  Sex_Male  Marriage_others  \\\n",
       "0 -0.314136 -0.293382                           1         0                0   \n",
       "1 -0.314136 -0.180878                           1         0                0   \n",
       "2 -0.248683 -0.012122                           0         0                0   \n",
       "3 -0.244166 -0.237130                           0         0                0   \n",
       "4 -0.269039 -0.255187                           0         1                0   \n",
       "\n",
       "   Marriage_single  \n",
       "0                0  \n",
       "1                1  \n",
       "2                1  \n",
       "3                0  \n",
       "4                0  \n",
       "\n",
       "[5 rows x 25 columns]"
      ]
     },
     "execution_count": 36,
     "metadata": {},
     "output_type": "execute_result"
    }
   ],
   "source": [
    "data.head()"
   ]
  },
  {
   "cell_type": "code",
   "execution_count": 37,
   "metadata": {},
   "outputs": [],
   "source": [
    "data_target=data[['default.payment.next.month']].values\n",
    "data_predictors=data.drop(columns=['default.payment.next.month'],axis=1).values\n",
    "x_train, x_test, y_train, y_test = train_test_split(data_predictors, data_target, test_size = 0.2, random_state = 0)"
   ]
  },
  {
   "cell_type": "code",
   "execution_count": 38,
   "metadata": {},
   "outputs": [
    {
     "name": "stdout",
     "output_type": "stream",
     "text": [
      "Linear SVM kernel\n"
     ]
    },
    {
     "name": "stderr",
     "output_type": "stream",
     "text": [
      "C:\\Users\\Harini Babu\\Anaconda3\\lib\\site-packages\\sklearn\\utils\\validation.py:760: DataConversionWarning: A column-vector y was passed when a 1d array was expected. Please change the shape of y to (n_samples, ), for example using ravel().\n",
      "  y = column_or_1d(y, warn=True)\n",
      "C:\\Users\\Harini Babu\\Anaconda3\\lib\\site-packages\\sklearn\\utils\\validation.py:760: DataConversionWarning: A column-vector y was passed when a 1d array was expected. Please change the shape of y to (n_samples, ), for example using ravel().\n",
      "  y = column_or_1d(y, warn=True)\n",
      "C:\\Users\\Harini Babu\\Anaconda3\\lib\\site-packages\\sklearn\\utils\\validation.py:760: DataConversionWarning: A column-vector y was passed when a 1d array was expected. Please change the shape of y to (n_samples, ), for example using ravel().\n",
      "  y = column_or_1d(y, warn=True)\n",
      "C:\\Users\\Harini Babu\\Anaconda3\\lib\\site-packages\\sklearn\\utils\\validation.py:760: DataConversionWarning: A column-vector y was passed when a 1d array was expected. Please change the shape of y to (n_samples, ), for example using ravel().\n",
      "  y = column_or_1d(y, warn=True)\n",
      "C:\\Users\\Harini Babu\\Anaconda3\\lib\\site-packages\\sklearn\\utils\\validation.py:760: DataConversionWarning: A column-vector y was passed when a 1d array was expected. Please change the shape of y to (n_samples, ), for example using ravel().\n",
      "  y = column_or_1d(y, warn=True)\n",
      "C:\\Users\\Harini Babu\\Anaconda3\\lib\\site-packages\\sklearn\\utils\\validation.py:760: DataConversionWarning: A column-vector y was passed when a 1d array was expected. Please change the shape of y to (n_samples, ), for example using ravel().\n",
      "  y = column_or_1d(y, warn=True)\n",
      "C:\\Users\\Harini Babu\\Anaconda3\\lib\\site-packages\\sklearn\\utils\\validation.py:760: DataConversionWarning: A column-vector y was passed when a 1d array was expected. Please change the shape of y to (n_samples, ), for example using ravel().\n",
      "  y = column_or_1d(y, warn=True)\n",
      "C:\\Users\\Harini Babu\\Anaconda3\\lib\\site-packages\\sklearn\\utils\\validation.py:760: DataConversionWarning: A column-vector y was passed when a 1d array was expected. Please change the shape of y to (n_samples, ), for example using ravel().\n",
      "  y = column_or_1d(y, warn=True)\n",
      "C:\\Users\\Harini Babu\\Anaconda3\\lib\\site-packages\\sklearn\\utils\\validation.py:760: DataConversionWarning: A column-vector y was passed when a 1d array was expected. Please change the shape of y to (n_samples, ), for example using ravel().\n",
      "  y = column_or_1d(y, warn=True)\n",
      "C:\\Users\\Harini Babu\\Anaconda3\\lib\\site-packages\\sklearn\\utils\\validation.py:760: DataConversionWarning: A column-vector y was passed when a 1d array was expected. Please change the shape of y to (n_samples, ), for example using ravel().\n",
      "  y = column_or_1d(y, warn=True)\n",
      "C:\\Users\\Harini Babu\\Anaconda3\\lib\\site-packages\\sklearn\\utils\\validation.py:760: DataConversionWarning: A column-vector y was passed when a 1d array was expected. Please change the shape of y to (n_samples, ), for example using ravel().\n",
      "  y = column_or_1d(y, warn=True)\n"
     ]
    },
    {
     "name": "stdout",
     "output_type": "stream",
     "text": [
      "After 10 fold cross validation:\n",
      "Mean Accuracy:  80.67500000000001\n",
      "Standard deviation of Accuracies 0.38360497621612955\n",
      "Confusion Matrix from test set:\n",
      "[[4594  109]\n",
      " [ 986  311]]\n",
      "Classification Report:\n",
      "              precision    recall  f1-score   support\n",
      "\n",
      "           0       0.82      0.98      0.89      4703\n",
      "           1       0.74      0.24      0.36      1297\n",
      "\n",
      "    accuracy                           0.82      6000\n",
      "   macro avg       0.78      0.61      0.63      6000\n",
      "weighted avg       0.81      0.82      0.78      6000\n",
      "\n",
      "Accuracy:  0.8175\n"
     ]
    }
   ],
   "source": [
    "#Linear kernel SVM\n",
    "print('Linear SVM kernel',end='\\n')\n",
    "linear_svm = SVC(kernel='linear')\n",
    "linear_svm.fit(x_train, y_train)\n",
    "\n",
    "#Applying k-Fold Cross Validation\n",
    "accuracies = cross_val_score(estimator = linear_svm, X = x_train, y = y_train, cv = 10)\n",
    "linear_svm_mean=accuracies.mean()\n",
    "linear_svm_std=accuracies.std()\n",
    "\n",
    "#After using 10 fold cross validation\n",
    "print('After 10 fold cross validation:')\n",
    "print('Mean Accuracy: ',linear_svm_mean*100,end='\\n')\n",
    "print('Standard deviation of Accuracies',linear_svm_std*100,end='\\n')\n",
    "\n",
    "#Predict SVM\n",
    "y_pred= linear_svm.predict(x_test)\n",
    "\n",
    "#Confusion Matrix\n",
    "print('Confusion Matrix from test set:')\n",
    "print(mt.confusion_matrix(y_test,y_pred))\n",
    "print('Classification Report:')\n",
    "print(mt.classification_report(y_test,y_pred))\n",
    "print('Accuracy: ',mt.accuracy_score(y_test, y_pred, normalize=True, sample_weight=None))\n"
   ]
  },
  {
   "cell_type": "code",
   "execution_count": 16,
   "metadata": {
    "scrolled": true
   },
   "outputs": [
    {
     "name": "stdout",
     "output_type": "stream",
     "text": [
      "polynomial SVM kernel\n"
     ]
    },
    {
     "name": "stderr",
     "output_type": "stream",
     "text": [
      "C:\\Users\\Harini Babu\\Anaconda3\\lib\\site-packages\\sklearn\\utils\\validation.py:760: DataConversionWarning: A column-vector y was passed when a 1d array was expected. Please change the shape of y to (n_samples, ), for example using ravel().\n",
      "  y = column_or_1d(y, warn=True)\n",
      "C:\\Users\\Harini Babu\\Anaconda3\\lib\\site-packages\\sklearn\\utils\\validation.py:760: DataConversionWarning: A column-vector y was passed when a 1d array was expected. Please change the shape of y to (n_samples, ), for example using ravel().\n",
      "  y = column_or_1d(y, warn=True)\n",
      "C:\\Users\\Harini Babu\\Anaconda3\\lib\\site-packages\\sklearn\\utils\\validation.py:760: DataConversionWarning: A column-vector y was passed when a 1d array was expected. Please change the shape of y to (n_samples, ), for example using ravel().\n",
      "  y = column_or_1d(y, warn=True)\n",
      "C:\\Users\\Harini Babu\\Anaconda3\\lib\\site-packages\\sklearn\\utils\\validation.py:760: DataConversionWarning: A column-vector y was passed when a 1d array was expected. Please change the shape of y to (n_samples, ), for example using ravel().\n",
      "  y = column_or_1d(y, warn=True)\n",
      "C:\\Users\\Harini Babu\\Anaconda3\\lib\\site-packages\\sklearn\\utils\\validation.py:760: DataConversionWarning: A column-vector y was passed when a 1d array was expected. Please change the shape of y to (n_samples, ), for example using ravel().\n",
      "  y = column_or_1d(y, warn=True)\n",
      "C:\\Users\\Harini Babu\\Anaconda3\\lib\\site-packages\\sklearn\\utils\\validation.py:760: DataConversionWarning: A column-vector y was passed when a 1d array was expected. Please change the shape of y to (n_samples, ), for example using ravel().\n",
      "  y = column_or_1d(y, warn=True)\n",
      "C:\\Users\\Harini Babu\\Anaconda3\\lib\\site-packages\\sklearn\\utils\\validation.py:760: DataConversionWarning: A column-vector y was passed when a 1d array was expected. Please change the shape of y to (n_samples, ), for example using ravel().\n",
      "  y = column_or_1d(y, warn=True)\n",
      "C:\\Users\\Harini Babu\\Anaconda3\\lib\\site-packages\\sklearn\\utils\\validation.py:760: DataConversionWarning: A column-vector y was passed when a 1d array was expected. Please change the shape of y to (n_samples, ), for example using ravel().\n",
      "  y = column_or_1d(y, warn=True)\n",
      "C:\\Users\\Harini Babu\\Anaconda3\\lib\\site-packages\\sklearn\\utils\\validation.py:760: DataConversionWarning: A column-vector y was passed when a 1d array was expected. Please change the shape of y to (n_samples, ), for example using ravel().\n",
      "  y = column_or_1d(y, warn=True)\n",
      "C:\\Users\\Harini Babu\\Anaconda3\\lib\\site-packages\\sklearn\\utils\\validation.py:760: DataConversionWarning: A column-vector y was passed when a 1d array was expected. Please change the shape of y to (n_samples, ), for example using ravel().\n",
      "  y = column_or_1d(y, warn=True)\n",
      "C:\\Users\\Harini Babu\\Anaconda3\\lib\\site-packages\\sklearn\\utils\\validation.py:760: DataConversionWarning: A column-vector y was passed when a 1d array was expected. Please change the shape of y to (n_samples, ), for example using ravel().\n",
      "  y = column_or_1d(y, warn=True)\n"
     ]
    },
    {
     "name": "stdout",
     "output_type": "stream",
     "text": [
      "After 10 fold cross validation:\n",
      "Mean Accuracy:  80.42916666666666\n",
      "Standard deviation of Accuracies 0.5755583038329922\n",
      "Confusion Matrix from test set:\n",
      "[[4575  128]\n",
      " [1012  285]]\n",
      "Classification Report:\n",
      "              precision    recall  f1-score   support\n",
      "\n",
      "           0       0.82      0.97      0.89      4703\n",
      "           1       0.69      0.22      0.33      1297\n",
      "\n",
      "    accuracy                           0.81      6000\n",
      "   macro avg       0.75      0.60      0.61      6000\n",
      "weighted avg       0.79      0.81      0.77      6000\n",
      "\n",
      "Accuracy:  0.81\n"
     ]
    }
   ],
   "source": [
    "#polynomial kernel SVM\n",
    "print('polynomial SVM kernel',end='\\n')\n",
    "polynomial_svm = SVC(kernel='poly')\n",
    "polynomial_svm.fit(x_train, y_train)\n",
    "\n",
    "#Applying k-Fold Cross Validation\n",
    "accuracies = cross_val_score(estimator = polynomial_svm, X = x_train, y = y_train, cv = 10)\n",
    "polynomial_svm_mean=accuracies.mean()\n",
    "polynomial_svm_std=accuracies.std()\n",
    "\n",
    "#After using 10 fold cross validation\n",
    "print('After 10 fold cross validation:')\n",
    "print('Mean Accuracy: ',polynomial_svm_mean*100,end='\\n')\n",
    "print('Standard deviation of Accuracies',polynomial_svm_std*100,end='\\n')\n",
    "\n",
    "#Predict SVM\n",
    "y_pred= polynomial_svm.predict(x_test)\n",
    "\n",
    "#Confusion Matrix\n",
    "print('Confusion Matrix from test set:')\n",
    "print(mt.confusion_matrix(y_test,y_pred))\n",
    "print('Classification Report:')\n",
    "print(mt.classification_report(y_test,y_pred))\n",
    "print('Accuracy: ',mt.accuracy_score(y_test, y_pred, normalize=True, sample_weight=None))\n"
   ]
  },
  {
   "cell_type": "code",
   "execution_count": 25,
   "metadata": {},
   "outputs": [
    {
     "name": "stdout",
     "output_type": "stream",
     "text": [
      "RBF kernel\n"
     ]
    },
    {
     "name": "stderr",
     "output_type": "stream",
     "text": [
      "C:\\Users\\Harini Babu\\Anaconda3\\lib\\site-packages\\sklearn\\utils\\validation.py:760: DataConversionWarning: A column-vector y was passed when a 1d array was expected. Please change the shape of y to (n_samples, ), for example using ravel().\n",
      "  y = column_or_1d(y, warn=True)\n",
      "C:\\Users\\Harini Babu\\Anaconda3\\lib\\site-packages\\sklearn\\utils\\validation.py:760: DataConversionWarning: A column-vector y was passed when a 1d array was expected. Please change the shape of y to (n_samples, ), for example using ravel().\n",
      "  y = column_or_1d(y, warn=True)\n",
      "C:\\Users\\Harini Babu\\Anaconda3\\lib\\site-packages\\sklearn\\utils\\validation.py:760: DataConversionWarning: A column-vector y was passed when a 1d array was expected. Please change the shape of y to (n_samples, ), for example using ravel().\n",
      "  y = column_or_1d(y, warn=True)\n",
      "C:\\Users\\Harini Babu\\Anaconda3\\lib\\site-packages\\sklearn\\utils\\validation.py:760: DataConversionWarning: A column-vector y was passed when a 1d array was expected. Please change the shape of y to (n_samples, ), for example using ravel().\n",
      "  y = column_or_1d(y, warn=True)\n",
      "C:\\Users\\Harini Babu\\Anaconda3\\lib\\site-packages\\sklearn\\utils\\validation.py:760: DataConversionWarning: A column-vector y was passed when a 1d array was expected. Please change the shape of y to (n_samples, ), for example using ravel().\n",
      "  y = column_or_1d(y, warn=True)\n",
      "C:\\Users\\Harini Babu\\Anaconda3\\lib\\site-packages\\sklearn\\utils\\validation.py:760: DataConversionWarning: A column-vector y was passed when a 1d array was expected. Please change the shape of y to (n_samples, ), for example using ravel().\n",
      "  y = column_or_1d(y, warn=True)\n",
      "C:\\Users\\Harini Babu\\Anaconda3\\lib\\site-packages\\sklearn\\utils\\validation.py:760: DataConversionWarning: A column-vector y was passed when a 1d array was expected. Please change the shape of y to (n_samples, ), for example using ravel().\n",
      "  y = column_or_1d(y, warn=True)\n",
      "C:\\Users\\Harini Babu\\Anaconda3\\lib\\site-packages\\sklearn\\utils\\validation.py:760: DataConversionWarning: A column-vector y was passed when a 1d array was expected. Please change the shape of y to (n_samples, ), for example using ravel().\n",
      "  y = column_or_1d(y, warn=True)\n",
      "C:\\Users\\Harini Babu\\Anaconda3\\lib\\site-packages\\sklearn\\utils\\validation.py:760: DataConversionWarning: A column-vector y was passed when a 1d array was expected. Please change the shape of y to (n_samples, ), for example using ravel().\n",
      "  y = column_or_1d(y, warn=True)\n",
      "C:\\Users\\Harini Babu\\Anaconda3\\lib\\site-packages\\sklearn\\utils\\validation.py:760: DataConversionWarning: A column-vector y was passed when a 1d array was expected. Please change the shape of y to (n_samples, ), for example using ravel().\n",
      "  y = column_or_1d(y, warn=True)\n",
      "C:\\Users\\Harini Babu\\Anaconda3\\lib\\site-packages\\sklearn\\utils\\validation.py:760: DataConversionWarning: A column-vector y was passed when a 1d array was expected. Please change the shape of y to (n_samples, ), for example using ravel().\n",
      "  y = column_or_1d(y, warn=True)\n"
     ]
    },
    {
     "name": "stdout",
     "output_type": "stream",
     "text": [
      "After 10 fold cross validation:\n",
      "Mean Accuracy:  81.75833333333333\n",
      "Standard deviation of Accuracies 0.5645179851479978\n",
      "Confusion Matrix from test set:\n",
      "[[4511  192]\n",
      " [ 851  446]]\n",
      "Classification Report:\n",
      "              precision    recall  f1-score   support\n",
      "\n",
      "           0       0.84      0.96      0.90      4703\n",
      "           1       0.70      0.34      0.46      1297\n",
      "\n",
      "    accuracy                           0.83      6000\n",
      "   macro avg       0.77      0.65      0.68      6000\n",
      "weighted avg       0.81      0.83      0.80      6000\n",
      "\n",
      "Accuracy:  0.8261666666666667\n"
     ]
    }
   ],
   "source": [
    "#RBF kernel SVM\n",
    "print('RBF kernel',end='\\n')\n",
    "rbf_svm = SVC(kernel='rbf')\n",
    "rbf_svm.fit(x_train, y_train)\n",
    "\n",
    "#Applying k-Fold Cross Validation\n",
    "accuracies = cross_val_score(estimator = rbf_svm, X = x_train, y = y_train, cv = 10)\n",
    "rbf_svm_mean=accuracies.mean()\n",
    "rbf_svm_std=accuracies.std()\n",
    "\n",
    "#After using 10 fold cross validation\n",
    "print('After 10 fold cross validation:')\n",
    "print('Mean Accuracy: ',rbf_svm_mean*100,end='\\n')\n",
    "print('Standard deviation of Accuracies',rbf_svm_std*100,end='\\n')\n",
    "\n",
    "#Predict SVM\n",
    "y_pred= rbf_svm.predict(x_test)\n",
    "\n",
    "#Confusion Matrix\n",
    "print('Confusion Matrix from test set:')\n",
    "print(mt.confusion_matrix(y_test,y_pred))\n",
    "print('Classification Report:')\n",
    "print(mt.classification_report(y_test,y_pred))\n",
    "print('Accuracy: ',mt.accuracy_score(y_test, y_pred, normalize=True, sample_weight=None))\n"
   ]
  },
  {
   "cell_type": "code",
   "execution_count": 74,
   "metadata": {},
   "outputs": [
    {
     "data": {
      "image/png": "[encoded data removed]",
      "text/plain": [
       "<Figure size 432x288 with 1 Axes>"
      ]
     },
     "metadata": {
      "needs_background": "light"
     },
     "output_type": "display_data"
    }
   ],
   "source": [
    "cv = ShuffleSplit(n_splits=10, test_size=0.2, random_state=0)\n",
    "train_sizes, train_scores, test_scores = learning_curve(rbf_svm, \n",
    "                                                        data_predictors, \n",
    "                                                        data_target,\n",
    "                                                        # Number of folds in cross-validation\n",
    "                                                        cv=cv,\n",
    "                                                        # Evaluation metric\n",
    "                                                        scoring='accuracy',\n",
    "                                                        # Use all computer cores\n",
    "                                                        n_jobs=-1, \n",
    "                                                        # 50 training sets of different sizes\n",
    "                                                        train_sizes=np.linspace(0.01, 1.0, 50))\n",
    "\n",
    "# Means and standard deviations of 10 fold cv of training sets\n",
    "train_accu_mean = np.mean(train_scores, axis=1)\n",
    "train_accu_std = np.std(train_scores, axis=1)\n",
    "\n",
    "# Means and standard deviations of 10 fold cv of test sets\n",
    "test_accu_mean = np.mean(test_scores, axis=1)\n",
    "test_accu_std = np.std(test_scores, axis=1)\n",
    "\n",
    "# Draw lines\n",
    "plt.plot(train_sizes, train_accu_mean, color=\"green\",  label=\"Training score\")\n",
    "plt.plot(train_sizes, test_accu_mean, color=\"red\", label=\"Cross-validation score\")\n",
    "\n",
    "# Draw bands\n",
    "plt.fill_between(train_sizes, train_accu_mean - train_accu_std, train_accu_mean + train_accu_std, color=\"#DDDDDD\")\n",
    "plt.fill_between(train_sizes, test_accu_mean - test_accu_std, test_accu_mean + test_accu_std, color=\"#DDDDDD\")\n",
    "\n",
    "# Create plot\n",
    "plt.title(\"Learning Curve\")\n",
    "plt.xlabel(\"Training Set Size\"), plt.ylabel(\"Accuracy\"), plt.legend(loc=\"best\")\n",
    "plt.tight_layout()\n",
    "plt.show()"
   ]
  },
  {
   "cell_type": "code",
   "execution_count": 14,
   "metadata": {},
   "outputs": [],
   "source": [
    "df_target=df[['default.payment.next.month']].values\n",
    "df_predictors=df.drop(columns=['default.payment.next.month'],axis=1).values\n",
    "x_train, x_test, y_train, y_test = train_test_split(df_predictors, df_target, test_size = 0.2, random_state = 0)"
   ]
  },
  {
   "cell_type": "code",
   "execution_count": 15,
   "metadata": {},
   "outputs": [
    {
     "name": "stdout",
     "output_type": "stream",
     "text": [
      "After 10 fold cross validation:\n",
      "Mean of Accuracies:  72.46666666666665\n",
      "Standard deviation of Accuracies 0.7126827251075117\n",
      "Test Output:\n",
      "Confusion Matrix:\n",
      "[[3886  817]\n",
      " [ 772  525]]\n",
      "Classification Report:\n",
      "              precision    recall  f1-score   support\n",
      "\n",
      "           0       0.83      0.83      0.83      4703\n",
      "           1       0.39      0.40      0.40      1297\n",
      "\n",
      "    accuracy                           0.74      6000\n",
      "   macro avg       0.61      0.62      0.61      6000\n",
      "weighted avg       0.74      0.74      0.74      6000\n",
      "\n",
      "Accuracy:  0.7351666666666666\n"
     ]
    }
   ],
   "source": [
    "#Entropy Model\n",
    "entropy_tree = DecisionTreeClassifier(criterion = 'entropy', random_state = 0)\n",
    "entropy_tree.fit(x_train, y_train)\n",
    "\n",
    "#Applying k-Fold Cross Validation\n",
    "accuracies = cross_val_score(estimator = entropy_tree, X = x_train, y = y_train, cv = 10)\n",
    "entropy_tree_mean=accuracies.mean()\n",
    "entropy_tree_std=accuracies.std()\n",
    "\n",
    "#After using 10 fold cross validation\n",
    "print('After 10 fold cross validation:')\n",
    "print('Mean of Accuracies: ',entropy_tree_mean*100,end='\\n')\n",
    "print('Standard deviation of Accuracies',entropy_tree_std*100,end='\\n')\n",
    "\n",
    "#predict y\n",
    "y_pred = entropy_tree.predict(x_test)\n",
    "\n",
    "#Confusion Matrix\n",
    "print('Test Output:')\n",
    "print('Confusion Matrix:')\n",
    "print(mt.confusion_matrix(y_test, y_pred))\n",
    "print('Classification Report:')\n",
    "print(mt.classification_report(y_test, y_pred))\n",
    "print('Accuracy: ',mt.accuracy_score(y_test,y_pred))"
   ]
  },
  {
   "cell_type": "code",
   "execution_count": 16,
   "metadata": {},
   "outputs": [
    {
     "name": "stdout",
     "output_type": "stream",
     "text": [
      "After 10 fold cross validation:\n",
      "Mean of Accuracies:  72.23750000000001\n",
      "Standard deviation of Accuracies 0.6577661058461437\n",
      "Test Output:\n",
      "Confusion Matrix:\n",
      "[[3831  872]\n",
      " [ 738  559]]\n",
      "Classification Report:\n",
      "              precision    recall  f1-score   support\n",
      "\n",
      "           0       0.84      0.81      0.83      4703\n",
      "           1       0.39      0.43      0.41      1297\n",
      "\n",
      "    accuracy                           0.73      6000\n",
      "   macro avg       0.61      0.62      0.62      6000\n",
      "weighted avg       0.74      0.73      0.74      6000\n",
      "\n",
      "Accuracy:  0.7316666666666667\n"
     ]
    }
   ],
   "source": [
    "#Gini Model\n",
    "gini_tree = DecisionTreeClassifier(criterion = 'gini', random_state = 0)\n",
    "gini_tree.fit(x_train, y_train)\n",
    "\n",
    "#Applying k-Fold Cross Validation\n",
    "accuracies = cross_val_score(estimator = gini_tree, X = x_train, y = y_train, cv = 10)\n",
    "gini_tree_mean=accuracies.mean()\n",
    "gini_tree_std=accuracies.std()\n",
    "\n",
    "#After using 10 fold cross validation\n",
    "print('After 10 fold cross validation:')\n",
    "print('Mean of Accuracies: ',gini_tree_mean*100,end='\\n')\n",
    "print('Standard deviation of Accuracies',gini_tree_std*100,end='\\n')\n",
    "\n",
    "#predict y\n",
    "y_pred = gini_tree.predict(x_test)\n",
    "\n",
    "#Confusion Matrix\n",
    "print('Test Output:')\n",
    "print('Confusion Matrix:')\n",
    "print(mt.confusion_matrix(y_test, y_pred))\n",
    "print('Classification Report:')\n",
    "print(mt.classification_report(y_test, y_pred))\n",
    "print('Accuracy: ',mt.accuracy_score(y_test,y_pred))"
   ]
  },
  {
   "cell_type": "code",
   "execution_count": 17,
   "metadata": {},
   "outputs": [
    {
     "name": "stdout",
     "output_type": "stream",
     "text": [
      "Accuracy:  0.8053750000000001\n",
      "Best Parameters:  {'criterion': 'gini', 'max_depth': 10, 'min_samples_leaf': 20}\n"
     ]
    }
   ],
   "source": [
    "#Pruning the better tree - Entropy Tree\n",
    "parameters = [{'criterion': ['gini'],'min_samples_leaf':[5,10,15,20],'max_depth':[10,20,30,40,50]}] \n",
    "pruned_tree = GridSearchCV(estimator = entropy_tree,\n",
    "                           param_grid = parameters,\n",
    "                           scoring = 'accuracy',\n",
    "                           cv = 10,\n",
    "                           n_jobs = -1)\n",
    "pruned_tree = pruned_tree.fit(x_train, y_train)\n",
    "best_accuracy = pruned_tree.best_score_\n",
    "best_parameters = pruned_tree.best_params_\n",
    "\n",
    "print('Accuracy: ',best_accuracy,end='\\n')\n",
    "print('Best Parameters: ',best_parameters,end='\\n')"
   ]
  },
  {
   "cell_type": "code",
   "execution_count": 18,
   "metadata": {},
   "outputs": [
    {
     "name": "stdout",
     "output_type": "stream",
     "text": [
      "Test Output:\n",
      "Confusion Matrix:\n",
      "[[4447  256]\n",
      " [ 853  444]]\n",
      "Classification Report:\n",
      "              precision    recall  f1-score   support\n",
      "\n",
      "           0       0.84      0.95      0.89      4703\n",
      "           1       0.63      0.34      0.44      1297\n",
      "\n",
      "    accuracy                           0.82      6000\n",
      "   macro avg       0.74      0.64      0.67      6000\n",
      "weighted avg       0.79      0.82      0.79      6000\n",
      "\n",
      "Accuracy:  0.8151666666666667\n"
     ]
    }
   ],
   "source": [
    "#predict y\n",
    "y_pred = pruned_tree.predict(x_test)\n",
    "\n",
    "#Confusion Matrix\n",
    "print('Test Output:')\n",
    "print('Confusion Matrix:')\n",
    "print(mt.confusion_matrix(y_test, y_pred))\n",
    "print('Classification Report:')\n",
    "print(mt.classification_report(y_test, y_pred))\n",
    "print('Accuracy: ',mt.accuracy_score(y_test,y_pred))"
   ]
  },
  {
   "cell_type": "code",
   "execution_count": 21,
   "metadata": {},
   "outputs": [
    {
     "data": {
      "image/png": "[encoded data removed]",
      "text/plain": [
       "<Figure size 432x288 with 1 Axes>"
      ]
     },
     "metadata": {
      "needs_background": "light"
     },
     "output_type": "display_data"
    }
   ],
   "source": [
    "cv = ShuffleSplit(n_splits=10, test_size=0.2, random_state=0)\n",
    "train_sizes, train_scores, test_scores = learning_curve(pruned_tree, \n",
    "                                                        df_predictors, \n",
    "                                                        df_target,\n",
    "                                                        # Number of folds in cross-validation\n",
    "                                                        cv=cv,\n",
    "                                                        # Evaluation metric\n",
    "                                                        scoring='accuracy',\n",
    "                                                        # Use all computer cores\n",
    "                                                        n_jobs=-1, \n",
    "                                                        # 50 training sets of different sizes\n",
    "                                                        train_sizes=np.linspace(0.01, 1, 20))\n",
    "\n",
    "# Means and standard deviations of 10 fold cv of training sets\n",
    "train_accu_mean = np.mean(train_scores, axis=1)\n",
    "train_accu_std = np.std(train_scores, axis=1)\n",
    "\n",
    "# Means and standard deviations of 10 fold cv of test sets\n",
    "test_accu_mean = np.mean(test_scores, axis=1)\n",
    "test_accu_std = np.std(test_scores, axis=1)\n",
    "\n",
    "# Draw lines\n",
    "plt.plot(train_sizes, train_accu_mean, color=\"green\",  label=\"Training score\")\n",
    "plt.plot(train_sizes, test_accu_mean, color=\"red\", label=\"Cross-validation score\")\n",
    "\n",
    "# Draw bands\n",
    "plt.fill_between(train_sizes, train_accu_mean - train_accu_std, train_accu_mean + train_accu_std, color=\"#DDDDDD\")\n",
    "plt.fill_between(train_sizes, test_accu_mean - test_accu_std, test_accu_mean + test_accu_std, color=\"#DDDDDD\")\n",
    "\n",
    "# Create plot\n",
    "plt.title(\"Learning Curve\")\n",
    "plt.xlabel(\"Training Set Size\"), plt.ylabel(\"Accuracy\"), plt.legend(loc=\"best\")\n",
    "plt.tight_layout()\n",
    "plt.show()"
   ]
  },
  {
   "cell_type": "code",
   "execution_count": 22,
   "metadata": {},
   "outputs": [
    {
     "name": "stderr",
     "output_type": "stream",
     "text": [
      "C:\\Users\\Harini Babu\\Anaconda3\\lib\\site-packages\\sklearn\\utils\\validation.py:760: DataConversionWarning: A column-vector y was passed when a 1d array was expected. Please change the shape of y to (n_samples, ), for example using ravel().\n",
      "  y = column_or_1d(y, warn=True)\n",
      "C:\\Users\\Harini Babu\\Anaconda3\\lib\\site-packages\\sklearn\\utils\\validation.py:760: DataConversionWarning: A column-vector y was passed when a 1d array was expected. Please change the shape of y to (n_samples, ), for example using ravel().\n",
      "  y = column_or_1d(y, warn=True)\n"
     ]
    },
    {
     "name": "stdout",
     "output_type": "stream",
     "text": [
      "Accuracy:  0.8147499999999999\n",
      "Best Parameters:  {'n_estimators': 500}\n"
     ]
    }
   ],
   "source": [
    "#Boosting\n",
    "# Applying Grid Search to find Adaboost model with the best parameters\n",
    "AdaBoost_tree = AdaBoostClassifier(random_state=1)\n",
    "AdaBoost_tree.fit(x_train, y_train)\n",
    "parameters = [{'n_estimators': [50,100,200,300,500]}] \n",
    "pruned_adaboost = GridSearchCV(estimator = AdaBoost_tree,\n",
    "                           param_grid = parameters,\n",
    "                           scoring = 'accuracy',\n",
    "                           cv = 5,\n",
    "                           n_jobs = -1)\n",
    "pruned_adaboost = pruned_adaboost.fit(x_train, y_train)\n",
    "best_accuracy = pruned_adaboost.best_score_\n",
    "best_parameters = pruned_adaboost.best_params_\n",
    "\n",
    "print('Accuracy: ',best_accuracy,end='\\n')\n",
    "print('Best Parameters: ',best_parameters,end='\\n')"
   ]
  },
  {
   "cell_type": "code",
   "execution_count": 23,
   "metadata": {},
   "outputs": [
    {
     "name": "stdout",
     "output_type": "stream",
     "text": [
      "Test Output:\n",
      "Confusion Matrix:\n",
      "[[4496  207]\n",
      " [ 857  440]]\n",
      "Classification Report:\n",
      "              precision    recall  f1-score   support\n",
      "\n",
      "           0       0.84      0.96      0.89      4703\n",
      "           1       0.68      0.34      0.45      1297\n",
      "\n",
      "    accuracy                           0.82      6000\n",
      "   macro avg       0.76      0.65      0.67      6000\n",
      "weighted avg       0.81      0.82      0.80      6000\n",
      "\n",
      "Accuracy:  0.8226666666666667\n"
     ]
    }
   ],
   "source": [
    "#predict y\n",
    "y_pred = pruned_adaboost.predict(x_test)\n",
    "\n",
    "#Confusion Matrix\n",
    "print('Test Output:')\n",
    "print('Confusion Matrix:')\n",
    "print(mt.confusion_matrix(y_test, y_pred))\n",
    "print('Classification Report:')\n",
    "print(mt.classification_report(y_test, y_pred))\n",
    "print('Accuracy: ',mt.accuracy_score(y_test,y_pred))"
   ]
  },
  {
   "cell_type": "code",
   "execution_count": 24,
   "metadata": {},
   "outputs": [
    {
     "data": {
      "image/png": "[encoded data removed]",
      "text/plain": [
       "<Figure size 432x288 with 1 Axes>"
      ]
     },
     "metadata": {
      "needs_background": "light"
     },
     "output_type": "display_data"
    }
   ],
   "source": [
    "cv = ShuffleSplit(n_splits=5, test_size=0.2, random_state=0)\n",
    "train_sizes, train_scores, test_scores = learning_curve(pruned_adaboost, \n",
    "                                                        df_predictors, \n",
    "                                                        df_target,\n",
    "                                                        # Number of folds in cross-validation\n",
    "                                                        cv=cv,\n",
    "                                                        # Evaluation metric\n",
    "                                                        scoring='accuracy',\n",
    "                                                        # Use all computer cores\n",
    "                                                        n_jobs=-1, \n",
    "                                                        # 50 training sets of different sizes\n",
    "                                                        train_sizes=np.linspace(0.01, 1, 20))\n",
    "\n",
    "# Means and standard deviations of 10 fold cv of training sets\n",
    "train_accu_mean = np.mean(train_scores, axis=1)\n",
    "train_accu_std = np.std(train_scores, axis=1)\n",
    "\n",
    "# Means and standard deviations of 10 fold cv of test sets\n",
    "test_accu_mean = np.mean(test_scores, axis=1)\n",
    "test_accu_std = np.std(test_scores, axis=1)\n",
    "\n",
    "# Draw lines\n",
    "plt.plot(train_sizes, train_accu_mean, color=\"green\",  label=\"Training score\")\n",
    "plt.plot(train_sizes, test_accu_mean, color=\"red\", label=\"Cross-validation score\")\n",
    "\n",
    "# Draw bands\n",
    "plt.fill_between(train_sizes, train_accu_mean - train_accu_std, train_accu_mean + train_accu_std, color=\"#DDDDDD\")\n",
    "plt.fill_between(train_sizes, test_accu_mean - test_accu_std, test_accu_mean + test_accu_std, color=\"#DDDDDD\")\n",
    "\n",
    "# Create plot\n",
    "plt.title(\"Learning Curve\")\n",
    "plt.xlabel(\"Training Set Size\"), plt.ylabel(\"Accuracy\"), plt.legend(loc=\"best\")\n",
    "plt.tight_layout()\n",
    "plt.show()"
   ]
  },
  {
   "cell_type": "code",
   "execution_count": null,
   "metadata": {},
   "outputs": [],
   "source": []
  }
 ],
 "metadata": {
  "kernelspec": {
   "display_name": "Python 3",
   "language": "python",
   "name": "python3"
  },
  "language_info": {
   "codemirror_mode": {
    "name": "ipython",
    "version": 3
   },
   "file_extension": ".py",
   "mimetype": "text/x-python",
   "name": "python",
   "nbconvert_exporter": "python",
   "pygments_lexer": "ipython3",
   "version": "3.7.3"
  }
 },
 "nbformat": 4,
 "nbformat_minor": 4
}
